{
 "cells": [
  {
   "cell_type": "code",
   "execution_count": null,
   "metadata": {},
   "outputs": [],
   "source": [
    "import pandas as pd\n",
    "import pymannkendall as mk\n",
    "import scipy  as sp"
   ]
  },
  {
   "cell_type": "code",
   "execution_count": null,
   "metadata": {},
   "outputs": [],
   "source": [
    "df_juigalpa_chirps = pd.read_excel(r\"C:\\Users\\solut\\Projects\\StatProjectUNIni\\data\\PRECIPITACION - Juigalpa CHIRPS (2002-2019).xlsx\")\n",
    "\n",
    "df_juigalpa_ineter = pd.read_excel(r\"C:\\Users\\solut\\Projects\\StatProjectUNIni\\data\\PRECIPITACION - Juigalpa INETER (2002-2019).xlsx\") \n",
    "\n",
    "df_juigalpa_trmm = pd.read_excel(r\"C:\\Users\\solut\\Projects\\StatProjectUNIni\\data\\PRECIPITACION - Juigalpa TRMM (2002-2019).xlsx\") \n",
    "\n",
    "df_managua_chirps = pd.read_excel(r\"C:\\Users\\solut\\Projects\\StatProjectUNIni\\data\\PRECIPITACION - Managua CHIRPS (2002-2019).xlsx\")\n",
    "\n",
    "df_managua_ineter = pd.read_excel(r\"C:\\Users\\solut\\Projects\\StatProjectUNIni\\data\\PRECIPITACION - Managua INETER (2002-2019).xlsx\")\n",
    "\n",
    "df_managua_trmm = pd.read_excel(r\"C:\\Users\\solut\\Projects\\StatProjectUNIni\\data\\PRECIPITACION - Managua TRMM (2002-2019).xlsx\")\n"
   ]
  },
  {
   "cell_type": "code",
   "execution_count": null,
   "metadata": {},
   "outputs": [],
   "source": [
    "df_juigalpa_chirps_values = df_juigalpa_chirps[\"Valor\"]\n",
    "df_juigalpa_ineter_values = df_juigalpa_ineter[\"Valor\"]\n",
    "df_juigalpa_trmm_values = df_juigalpa_trmm[\"Valor\"]\n",
    "\n",
    "df_managua_chirps_values = df_managua_chirps[\"Valor\"]\n",
    "df_managua_ineter_values = df_managua_ineter[\"Valor\"]\n",
    "df_managua_trmm_values = df_managua_trmm[\"Valor\"]"
   ]
  },
  {
   "cell_type": "code",
   "execution_count": null,
   "metadata": {},
   "outputs": [],
   "source": []
  },
  {
   "cell_type": "code",
   "execution_count": null,
   "metadata": {},
   "outputs": [],
   "source": [
    "result_mk_juigalpa_chirps = mk.original_test(df_juigalpa_chirps_values)\n",
    "result_mk_juigalpa_ineter = mk.original_test(df_juigalpa_ineter_values)\n",
    "result_mk_juigalpa_trmm = mk.original_test(df_juigalpa_trmm_values)\n",
    "\n",
    "result_mk_managua_chirps = mk.original_test(df_managua_chirps_values)\n",
    "result_mk_managua_ineter = mk.original_test(df_managua_ineter_values)\n",
    "result_mk_managua_trmm = mk.original_test(df_managua_trmm_values)"
   ]
  },
  {
   "cell_type": "code",
   "execution_count": null,
   "metadata": {},
   "outputs": [],
   "source": [
    "def to_dict(result_mk):\n",
    "    return {\n",
    "        'trend': result_mk.trend,\n",
    "        'h': result_mk.h,\n",
    "        'p_value': float(result_mk.p),\n",
    "        'z_value': float(result_mk.z),\n",
    "        'Tau': float(result_mk.Tau),\n",
    "        's': float(result_mk.s),\n",
    "        'var_s': float(result_mk.var_s),\n",
    "        'slope': float(result_mk.slope),\n",
    "        'intercept': float(result_mk.intercept)\n",
    "    }\n"
   ]
  },
  {
   "cell_type": "code",
   "execution_count": null,
   "metadata": {},
   "outputs": [],
   "source": [
    "results = {\n",
    "    'Chirps_Juigalpa': to_dict(result_mk_juigalpa_chirps),\n",
    "    'INETER_Juigalpa': to_dict(result_mk_juigalpa_ineter),\n",
    "    'TRMM_Juigalpa': to_dict(result_mk_juigalpa_trmm),\n",
    "    'Chirps_Managua': to_dict(result_mk_managua_chirps),\n",
    "    'INETER_Managua': to_dict(result_mk_managua_ineter),\n",
    "    'TRMM_Managua': to_dict(result_mk_managua_trmm)\n",
    "}"
   ]
  },
  {
   "cell_type": "code",
   "execution_count": null,
   "metadata": {},
   "outputs": [],
   "source": [
    "df_result = pd.DataFrame(results)\n"
   ]
  },
  {
   "cell_type": "code",
   "execution_count": null,
   "metadata": {},
   "outputs": [],
   "source": [
    "\n",
    "df_result.to_excel(\"ManKendall Test.xlsx\")"
   ]
  }
 ],
 "metadata": {
  "kernelspec": {
   "display_name": "StatProjectUNIni-2CVdfANF",
   "language": "python",
   "name": "python3"
  },
  "language_info": {
   "codemirror_mode": {
    "name": "ipython",
    "version": 3
   },
   "file_extension": ".py",
   "mimetype": "text/x-python",
   "name": "python",
   "nbconvert_exporter": "python",
   "pygments_lexer": "ipython3",
   "version": "3.12.3"
  }
 },
 "nbformat": 4,
 "nbformat_minor": 2
}
