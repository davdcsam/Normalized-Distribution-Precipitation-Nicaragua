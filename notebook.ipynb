{
 "cells": [
  {
   "cell_type": "code",
   "execution_count": null,
   "metadata": {},
   "outputs": [],
   "source": [
    "import scipy\n",
    "import pandas as pd\n",
    "import numpy as np\n",
    "import pymannkendall as mk"
   ]
  },
  {
   "cell_type": "code",
   "execution_count": null,
   "metadata": {},
   "outputs": [],
   "source": [
    "df = pd.read_excel(r\"C:\\Users\\solut\\Projects\\StatProjectUNIni\\data\\test\\testData.xlsx\")"
   ]
  },
  {
   "cell_type": "code",
   "execution_count": null,
   "metadata": {},
   "outputs": [],
   "source": [
    "df.head()"
   ]
  },
  {
   "cell_type": "code",
   "execution_count": null,
   "metadata": {},
   "outputs": [],
   "source": [
    "type(df)"
   ]
  },
  {
   "cell_type": "code",
   "execution_count": null,
   "metadata": {},
   "outputs": [],
   "source": [
    "df_values = df[\"Valor\"]"
   ]
  },
  {
   "cell_type": "code",
   "execution_count": null,
   "metadata": {},
   "outputs": [],
   "source": [
    "df_values"
   ]
  },
  {
   "cell_type": "code",
   "execution_count": null,
   "metadata": {},
   "outputs": [],
   "source": [
    "mean = df_values.mean()\n",
    "median = df_values.median()\n",
    "dev_std = df_values.std()\n",
    "n = df_values.count()\n",
    "\n",
    "print(f\"media {mean}\\nmedian {median}\\nstd {dev_std}\\nn {n}\")"
   ]
  },
  {
   "cell_type": "code",
   "execution_count": null,
   "metadata": {},
   "outputs": [],
   "source": [
    "result_mk = mk.original_test(df_values)"
   ]
  },
  {
   "cell_type": "code",
   "execution_count": null,
   "metadata": {},
   "outputs": [],
   "source": [
    "print(\"Test Summary:\")\n",
    "print(f\"Trend: {result_mk.trend}\")\n",
    "print(f\"H: {result_mk.h}\")\n",
    "print(f\"P-value: {result_mk.p}\")\n",
    "print(f\"Z: {result_mk.z}\")\n",
    "print(f\"S: {result_mk.s}\")\n",
    "print(f\"Var(S): {result_mk.var_s}\")\n",
    "print(f\"Tau: {result_mk.Tau}\")\n",
    "print(f\"Slope: {result_mk.slope}\")\n",
    "print(f\"Intercept: {result_mk.intercept}\")"
   ]
  },
  {
   "cell_type": "code",
   "execution_count": null,
   "metadata": {},
   "outputs": [],
   "source": [
    "z_critical = {\n",
    "    0.10: 1.645,\n",
    "    0.05: 1.96,\n",
    "    0.01: 2.576\n",
    "}\n",
    "\n",
    "z_value = result_mk.z\n",
    "trend = result_mk.trend\n",
    "p_value = result_mk.p\n",
    "\n",
    "for alpha, z_crit in z_critical.items():\n",
    "    if abs(z_value) > z_crit:\n",
    "        print(f\"Hay una tendencia significativa al nivel de significancia {alpha} (valor crítico: {z_crit}).\")\n",
    "    else:\n",
    "        print(f\"No hay una tendencia significativa al nivel de significancia {alpha} (valor crítico: {z_crit}).\")\n"
   ]
  }
 ],
 "metadata": {
  "kernelspec": {
   "display_name": "StatProjectUNIni-2CVdfANF",
   "language": "python",
   "name": "python3"
  },
  "language_info": {
   "codemirror_mode": {
    "name": "ipython",
    "version": 3
   },
   "file_extension": ".py",
   "mimetype": "text/x-python",
   "name": "python",
   "nbconvert_exporter": "python",
   "pygments_lexer": "ipython3",
   "version": "3.12.3"
  }
 },
 "nbformat": 4,
 "nbformat_minor": 2
}
