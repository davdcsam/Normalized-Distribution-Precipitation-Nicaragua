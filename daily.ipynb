{
 "cells": [
  {
   "cell_type": "markdown",
   "metadata": {},
   "source": [
    "# Test Kolmogorov-Smirnov en Precipitaciones Diaria "
   ]
  },
  {
   "cell_type": "code",
   "execution_count": 23,
   "metadata": {},
   "outputs": [],
   "source": [
    "import pandas as pd\n",
    "import scipy as sp\n",
    "import os"
   ]
  },
  {
   "cell_type": "markdown",
   "metadata": {},
   "source": [
    "Convertir los .xlsx files a DataFrame\n",
    "1. Obteber el directory de trabajo actual -> base_dir\n",
    "2. Asignar cada archivo un DataFrame distinto"
   ]
  },
  {
   "cell_type": "code",
   "execution_count": 3,
   "metadata": {},
   "outputs": [],
   "source": [
    "base_dir = os.getcwd()\n",
    "\n",
    "df_juigalpa_chirps = pd.read_excel(f\"{base_dir}\\\\data\\\\precipitationDaily\\\\Precipitación Diaria _ Juigalpa CHIRPS (2002-2019).xlsx\")\n",
    "df_juigalpa_ineter = pd.read_excel(f\"{base_dir}\\\\data\\\\precipitationDaily\\\\Precipitación Diaria _ Juigalpa INETER (2002-2019).xlsx\") \n",
    "df_juigalpa_trmm = pd.read_excel(f\"{base_dir}\\\\data\\\\precipitationDaily\\\\Precipitación Diaria _ Juigalpa TRMM (2002-2019).xlsx\") \n",
    "\n",
    "df_managua_chirps = pd.read_excel(f\"{base_dir}\\\\data\\\\precipitationDaily\\\\Precipitación Diaria _ Managua CHIRPS (2002-2019).xlsx\")\n",
    "df_managua_ineter = pd.read_excel(f\"{base_dir}\\\\data\\\\precipitationDaily\\\\Precipitación Diaria _ Managua INETER (2002-2019).xlsx\")\n",
    "df_managua_trmm = pd.read_excel(f\"{base_dir}\\\\data\\\\precipitationDaily\\\\Precipitación Diaria _ Managua TRMM (2002-2019).xlsx\")"
   ]
  },
  {
   "cell_type": "markdown",
   "metadata": {},
   "source": [
    "Extraer la columna \"PREC.DIARIA\""
   ]
  },
  {
   "cell_type": "code",
   "execution_count": 5,
   "metadata": {},
   "outputs": [],
   "source": [
    "column_name_values = \"PREC.DIARIA\"\n",
    "\n",
    "df_juigalpa_chirps_values = df_juigalpa_chirps[column_name_values]\n",
    "df_juigalpa_ineter_values = df_juigalpa_ineter[column_name_values]\n",
    "df_juigalpa_trmm_values = df_juigalpa_trmm[column_name_values]\n",
    "\n",
    "df_managua_chirps_values = df_managua_chirps[column_name_values]\n",
    "df_managua_ineter_values = df_managua_ineter[column_name_values]\n",
    "df_managua_trmm_values = df_managua_trmm[column_name_values]"
   ]
  },
  {
   "cell_type": "markdown",
   "metadata": {},
   "source": [
    "Realizar el test, el cual esta disponible en spicy.stats.kstest\n",
    "\n",
    "Retornado en el objeto:\n",
    "\n",
    "``` \n",
    "KstestResult(\n",
    "    statistic=np.float64(), \n",
    "    pvalue=np.float64(), \n",
    "    statistic_location=np.float64(), \n",
    "    statistic_sign=np.int8()\n",
    "    )\n",
    "```"
   ]
  },
  {
   "cell_type": "code",
   "execution_count": 6,
   "metadata": {},
   "outputs": [],
   "source": [
    "result_ks_juigalpa_chirps = sp.stats.kstest(df_juigalpa_chirps_values.values, \"norm\", args=(df_juigalpa_chirps_values.mean(), df_juigalpa_chirps_values.std()))\n",
    "result_ks_juigalpa_ineter = sp.stats.kstest(df_juigalpa_ineter_values.values, \"norm\", args=(df_juigalpa_ineter_values.mean(), df_juigalpa_ineter_values.std()))\n",
    "result_ks_juigalpa_trmm = sp.stats.kstest(df_juigalpa_trmm_values.values, \"norm\", args=(df_juigalpa_trmm_values.mean(), df_juigalpa_trmm_values.std()))\n",
    "\n",
    "result_ks_managua_chirps = sp.stats.kstest(df_managua_chirps_values.values, \"norm\", args=(df_managua_chirps_values.mean(), df_managua_chirps_values.std()))\n",
    "result_ks_managua_ineter = sp.stats.kstest(df_managua_ineter_values.values, \"norm\", args=(df_managua_ineter_values.mean(), df_managua_ineter_values.std()))\n",
    "result_ks_managua_trmm = sp.stats.kstest(df_managua_trmm_values.values, \"norm\", args=(df_managua_trmm_values.mean(), df_managua_trmm_values.std()))"
   ]
  },
  {
   "cell_type": "markdown",
   "metadata": {},
   "source": [
    "Function para convertir el objeto  `KstestResult` a diccionario "
   ]
  },
  {
   "cell_type": "code",
   "execution_count": 24,
   "metadata": {},
   "outputs": [],
   "source": [
    "def to_dict_ks(result_ks):\n",
    "    return {\n",
    "        'statistic': result_ks.statistic,\n",
    "        \"pvalue\": result_ks.pvalue, \n",
    "        'statistic_location': result_ks.statistic_location,\n",
    "        'statistic_sign': result_ks.statistic_sign\n",
    "    }"
   ]
  },
  {
   "cell_type": "code",
   "execution_count": 25,
   "metadata": {},
   "outputs": [],
   "source": [
    "results_ks = {\n",
    "    'Chirps_Juigalpa': to_dict_ks(result_ks_juigalpa_chirps),\n",
    "    'INETER_Juigalpa': to_dict_ks(result_ks_juigalpa_ineter),\n",
    "    'TRMM_Juigalpa': to_dict_ks(result_ks_juigalpa_trmm),\n",
    "    'Chirps_Managua': to_dict_ks(result_ks_managua_chirps),\n",
    "    'INETER_Managua': to_dict_ks(result_ks_managua_ineter),\n",
    "    'TRMM_Managua': to_dict_ks(result_ks_managua_trmm)\n",
    "}"
   ]
  },
  {
   "cell_type": "markdown",
   "metadata": {},
   "source": [
    "Convertir el diccionario a DataFtame para exportar a .xlsx"
   ]
  },
  {
   "cell_type": "code",
   "execution_count": 27,
   "metadata": {},
   "outputs": [],
   "source": [
    "df_result_ks = pd.DataFrame(results_ks)\n",
    "df_result_ks.to_excel(\"Python Kolmogorov-Smirnov Precipitacion Daily Test.xlsx\")"
   ]
  }
 ],
 "metadata": {
  "kernelspec": {
   "display_name": "StatProjectUNIni-2CVdfANF",
   "language": "python",
   "name": "python3"
  },
  "language_info": {
   "codemirror_mode": {
    "name": "ipython",
    "version": 3
   },
   "file_extension": ".py",
   "mimetype": "text/x-python",
   "name": "python",
   "nbconvert_exporter": "python",
   "pygments_lexer": "ipython3",
   "version": "3.12.3"
  }
 },
 "nbformat": 4,
 "nbformat_minor": 2
}
