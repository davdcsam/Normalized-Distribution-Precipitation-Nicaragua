{
 "cells": [
  {
   "cell_type": "code",
   "execution_count": 1,
   "metadata": {},
   "outputs": [],
   "source": [
    "import scipy\n",
    "import pandas as pd\n",
    "import numpy as np\n",
    "import pymannkendall as mk"
   ]
  },
  {
   "cell_type": "code",
   "execution_count": 2,
   "metadata": {},
   "outputs": [],
   "source": [
    "df = pd.read_excel(r\"C:\\Users\\solut\\Projects\\StatProjectUNIni\\data\\test\\testData.xlsx\")"
   ]
  },
  {
   "cell_type": "code",
   "execution_count": 3,
   "metadata": {},
   "outputs": [
    {
     "data": {
      "text/html": [
       "<div>\n",
       "<style scoped>\n",
       "    .dataframe tbody tr th:only-of-type {\n",
       "        vertical-align: middle;\n",
       "    }\n",
       "\n",
       "    .dataframe tbody tr th {\n",
       "        vertical-align: top;\n",
       "    }\n",
       "\n",
       "    .dataframe thead th {\n",
       "        text-align: right;\n",
       "    }\n",
       "</style>\n",
       "<table border=\"1\" class=\"dataframe\">\n",
       "  <thead>\n",
       "    <tr style=\"text-align: right;\">\n",
       "      <th></th>\n",
       "      <th>Fila</th>\n",
       "      <th>Columna</th>\n",
       "      <th>Valor</th>\n",
       "      <th>Página1</th>\n",
       "    </tr>\n",
       "  </thead>\n",
       "  <tbody>\n",
       "    <tr>\n",
       "      <th>0</th>\n",
       "      <td>1964</td>\n",
       "      <td>ENE</td>\n",
       "      <td>103.8</td>\n",
       "      <td>Elemento1</td>\n",
       "    </tr>\n",
       "    <tr>\n",
       "      <th>1</th>\n",
       "      <td>1964</td>\n",
       "      <td>FEB</td>\n",
       "      <td>116.0</td>\n",
       "      <td>Elemento1</td>\n",
       "    </tr>\n",
       "    <tr>\n",
       "      <th>2</th>\n",
       "      <td>1964</td>\n",
       "      <td>MAR</td>\n",
       "      <td>170.4</td>\n",
       "      <td>Elemento1</td>\n",
       "    </tr>\n",
       "    <tr>\n",
       "      <th>3</th>\n",
       "      <td>1964</td>\n",
       "      <td>ABR</td>\n",
       "      <td>22.5</td>\n",
       "      <td>Elemento1</td>\n",
       "    </tr>\n",
       "    <tr>\n",
       "      <th>4</th>\n",
       "      <td>1964</td>\n",
       "      <td>MAY</td>\n",
       "      <td>5.8</td>\n",
       "      <td>Elemento1</td>\n",
       "    </tr>\n",
       "  </tbody>\n",
       "</table>\n",
       "</div>"
      ],
      "text/plain": [
       "   Fila Columna  Valor    Página1\n",
       "0  1964     ENE  103.8  Elemento1\n",
       "1  1964     FEB  116.0  Elemento1\n",
       "2  1964     MAR  170.4  Elemento1\n",
       "3  1964     ABR   22.5  Elemento1\n",
       "4  1964     MAY    5.8  Elemento1"
      ]
     },
     "execution_count": 3,
     "metadata": {},
     "output_type": "execute_result"
    }
   ],
   "source": [
    "df.head()"
   ]
  },
  {
   "cell_type": "code",
   "execution_count": 4,
   "metadata": {},
   "outputs": [
    {
     "data": {
      "text/plain": [
       "pandas.core.frame.DataFrame"
      ]
     },
     "execution_count": 4,
     "metadata": {},
     "output_type": "execute_result"
    }
   ],
   "source": [
    "type(df)"
   ]
  },
  {
   "cell_type": "code",
   "execution_count": 5,
   "metadata": {},
   "outputs": [],
   "source": [
    "df_values = df[\"Valor\"]"
   ]
  },
  {
   "cell_type": "code",
   "execution_count": 6,
   "metadata": {},
   "outputs": [
    {
     "data": {
      "text/plain": [
       "0      103.800000\n",
       "1      116.000000\n",
       "2      170.400000\n",
       "3       22.500000\n",
       "4        5.800000\n",
       "          ...    \n",
       "667      3.448969\n",
       "668     10.515864\n",
       "669     98.465735\n",
       "670     55.186808\n",
       "671    182.977983\n",
       "Name: Valor, Length: 672, dtype: float64"
      ]
     },
     "execution_count": 6,
     "metadata": {},
     "output_type": "execute_result"
    }
   ],
   "source": [
    "df_values"
   ]
  },
  {
   "cell_type": "code",
   "execution_count": 7,
   "metadata": {},
   "outputs": [
    {
     "name": "stdout",
     "output_type": "stream",
     "text": [
      "media 66.44562566184672\n",
      "median 48.05\n",
      "std 65.54717673046653\n",
      "n 672\n"
     ]
    }
   ],
   "source": [
    "mean = df_values.mean()\n",
    "median = df_values.median()\n",
    "dev_std = df_values.std()\n",
    "n = df_values.count()\n",
    "\n",
    "print(f\"media {mean}\\nmedian {median}\\nstd {dev_std}\\nn {n}\")"
   ]
  },
  {
   "cell_type": "code",
   "execution_count": 8,
   "metadata": {},
   "outputs": [],
   "source": [
    "result_mk = mk.original_test(df_values)"
   ]
  },
  {
   "cell_type": "code",
   "execution_count": 9,
   "metadata": {},
   "outputs": [
    {
     "name": "stdout",
     "output_type": "stream",
     "text": [
      "Test Summary:\n",
      "Trend: no trend\n",
      "H: False\n",
      "P-value: 0.7657066495607296\n",
      "Z: 0.2979954326660693\n",
      "S: 1733.0\n",
      "Var(S): 33781315.666666664\n",
      "Tau: 0.00768664395713576\n",
      "Slope: 0.0007575757575757577\n",
      "Intercept: 47.79583333333333\n"
     ]
    }
   ],
   "source": [
    "print(\"Test Summary:\")\n",
    "print(f\"Trend: {result_mk.trend}\")\n",
    "print(f\"H: {result_mk.h}\")\n",
    "print(f\"P-value: {result_mk.p}\")\n",
    "print(f\"Z: {result_mk.z}\")\n",
    "print(f\"S: {result_mk.s}\")\n",
    "print(f\"Var(S): {result_mk.var_s}\")\n",
    "print(f\"Tau: {result_mk.Tau}\")\n",
    "print(f\"Slope: {result_mk.slope}\")\n",
    "print(f\"Intercept: {result_mk.intercept}\")"
   ]
  },
  {
   "cell_type": "code",
   "execution_count": 10,
   "metadata": {},
   "outputs": [
    {
     "name": "stdout",
     "output_type": "stream",
     "text": [
      "No hay una tendencia significativa al nivel de significancia 0.1 (valor crítico: 1.645).\n",
      "No hay una tendencia significativa al nivel de significancia 0.05 (valor crítico: 1.96).\n",
      "No hay una tendencia significativa al nivel de significancia 0.01 (valor crítico: 2.576).\n"
     ]
    }
   ],
   "source": [
    "z_critical = {\n",
    "    0.10: 1.645,\n",
    "    0.05: 1.96,\n",
    "    0.01: 2.576\n",
    "}\n",
    "\n",
    "z_value = result_mk.z\n",
    "trend = result_mk.trend\n",
    "p_value = result_mk.p\n",
    "\n",
    "for alpha, z_crit in z_critical.items():\n",
    "    if abs(z_value) > z_crit:\n",
    "        print(f\"Hay una tendencia significativa al nivel de significancia {alpha} (valor crítico: {z_crit}).\")\n",
    "    else:\n",
    "        print(f\"No hay una tendencia significativa al nivel de significancia {alpha} (valor crítico: {z_crit}).\")\n"
   ]
  },
  {
   "cell_type": "code",
   "execution_count": 7,
   "metadata": {},
   "outputs": [
    {
     "name": "stdout",
     "output_type": "stream",
     "text": [
      "Valor de z: 1.1272037239532693\n",
      "Valor de p: 0.2596563563704499\n",
      "No se rechaza la hipótesis nula, la distribución es homogénea.\n"
     ]
    }
   ],
   "source": [
    "import numpy as np\n",
    "from scipy.stats import norm\n",
    "\n",
    "def mk_test(x, alpha=0.05):\n",
    "    n = len(x)\n",
    "    \n",
    "    s = 0\n",
    "    for k in range(n-1):\n",
    "        for j in range(k+1, n):\n",
    "            s += np.sign(x[j] - x[k])\n",
    "    \n",
    "    var_s = (n * (n - 1) * (2 * n + 5)) / 18\n",
    "    \n",
    "    if s > 0:\n",
    "        z = (s - 1) / np.sqrt(var_s)\n",
    "    elif s < 0:\n",
    "        z = (s + 1) / np.sqrt(var_s)\n",
    "    else:\n",
    "        z = 0\n",
    "    \n",
    "    p = 2 * (1 - norm.cdf(abs(z))) \n",
    "    \n",
    "    return z, p\n",
    "\n",
    "alpha = 0.1\n",
    "muestra = [10, 12, 13, 10, 12, 14]\n",
    "z, p = mk_test(muestra, alpha)\n",
    "\n",
    "print(f\"Valor de z: {z}\")\n",
    "print(f\"Valor de p: {p}\")\n",
    "\n",
    "if p > alpha:\n",
    "    print(\"No se rechaza la hipótesis nula, la distribución es homogénea.\")\n",
    "else:\n",
    "    print(\"Se rechaza la hipótesis nula, la distribución no es homogénea.\")\n"
   ]
  }
 ],
 "metadata": {
  "kernelspec": {
   "display_name": "StatProjectUNIni-2CVdfANF",
   "language": "python",
   "name": "python3"
  },
  "language_info": {
   "codemirror_mode": {
    "name": "ipython",
    "version": 3
   },
   "file_extension": ".py",
   "mimetype": "text/x-python",
   "name": "python",
   "nbconvert_exporter": "python",
   "pygments_lexer": "ipython3",
   "version": "3.12.3"
  }
 },
 "nbformat": 4,
 "nbformat_minor": 2
}
