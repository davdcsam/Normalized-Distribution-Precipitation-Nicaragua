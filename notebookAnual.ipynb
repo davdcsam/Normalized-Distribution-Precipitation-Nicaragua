{
 "cells": [
  {
   "cell_type": "code",
   "execution_count": 1,
   "metadata": {},
   "outputs": [],
   "source": [
    "import pandas as pd\n",
    "import pymannkendall as mk\n",
    "import scipy  as sp\n",
    "import numpy as np"
   ]
  },
  {
   "cell_type": "code",
   "execution_count": 3,
   "metadata": {},
   "outputs": [],
   "source": [
    "df_juigalpa_chirps = pd.read_excel(r\"C:\\Users\\solut\\Projects\\StatProjectUNIni\\data\\precipitationAnual\\Precipitación Anual _ Juigalpa CHIRPS (2002-2019).xlsx\")\n",
    "\n",
    "df_juigalpa_ineter = pd.read_excel(r\"C:\\Users\\solut\\Projects\\StatProjectUNIni\\data\\precipitationAnual\\Precipitación Anual _ Juigalpa INETER (2002-2019).xlsx\") \n",
    "\n",
    "df_juigalpa_trmm = pd.read_excel(r\"C:\\Users\\solut\\Projects\\StatProjectUNIni\\data\\precipitationAnual\\Precipitación Anual _ Juigalpa TRMM (2002-2019).xlsx\") \n",
    "\n",
    "df_managua_chirps = pd.read_excel(r\"C:\\Users\\solut\\Projects\\StatProjectUNIni\\data\\precipitationAnual\\Precipitación Anual _ Managua CHIRPS (2002-2019).xlsx\")\n",
    "\n",
    "df_managua_ineter = pd.read_excel(r\"C:\\Users\\solut\\Projects\\StatProjectUNIni\\data\\precipitationAnual\\Precipitación Anual _ Managua INETER (2002-2019).xlsx\")\n",
    "\n",
    "df_managua_trmm = pd.read_excel(r\"C:\\Users\\solut\\Projects\\StatProjectUNIni\\data\\precipitationAnual\\Precipitación Anual _ Managua TRMM (2002-2019).xlsx\")\n"
   ]
  },
  {
   "cell_type": "code",
   "execution_count": 4,
   "metadata": {},
   "outputs": [],
   "source": [
    "column_name_values = \"PREC.ANUAL\""
   ]
  },
  {
   "cell_type": "code",
   "execution_count": 5,
   "metadata": {},
   "outputs": [],
   "source": [
    "df_juigalpa_chirps_values = df_juigalpa_chirps[column_name_values]\n",
    "df_juigalpa_ineter_values = df_juigalpa_ineter[column_name_values]\n",
    "df_juigalpa_trmm_values = df_juigalpa_trmm[column_name_values]\n",
    "\n",
    "df_managua_chirps_values = df_managua_chirps[column_name_values]\n",
    "df_managua_ineter_values = df_managua_ineter[column_name_values]\n",
    "df_managua_trmm_values = df_managua_trmm[column_name_values]"
   ]
  },
  {
   "cell_type": "code",
   "execution_count": 9,
   "metadata": {},
   "outputs": [],
   "source": [
    "result_chic_square_juigalpa_chirps = sp.stats.chisquare(f_obs=df_juigalpa_chirps_values.values)\n",
    "result_chic_square_juigalpa_ineter = sp.stats.chisquare(f_obs=df_juigalpa_ineter_values.values)\n",
    "result_chic_square_juigalpa_trmm = sp.stats.chisquare(f_obs=df_juigalpa_trmm_values.values)\n",
    "\n",
    "result_chic_square_managua_chirps = sp.stats.chisquare(f_obs=df_managua_chirps_values.values)\n",
    "result_chic_square_managua_ineter = sp.stats.chisquare(f_obs=df_managua_ineter_values.values)\n",
    "result_chic_square_managua_trmm = sp.stats.chisquare(f_obs=df_managua_trmm_values.values)"
   ]
  },
  {
   "cell_type": "code",
   "execution_count": 14,
   "metadata": {},
   "outputs": [],
   "source": [
    "def to_dict_chisquare(result_chisquare):\n",
    "    return {\n",
    "        \"statistic\": float(result_chisquare.statistic),\n",
    "        \"pvalue\": float(result_chisquare.pvalue)\n",
    "    }"
   ]
  },
  {
   "cell_type": "code",
   "execution_count": 15,
   "metadata": {},
   "outputs": [],
   "source": [
    "results_chisquare = {\n",
    "    'Chirps_Juigalpa': to_dict_chisquare(result_chic_square_juigalpa_chirps),\n",
    "    'INETER_Juigalpa': to_dict_chisquare(result_chic_square_juigalpa_ineter),\n",
    "    'TRMM_Juigalpa': to_dict_chisquare(result_chic_square_juigalpa_trmm),\n",
    "    'Chirps_Managua': to_dict_chisquare(result_chic_square_managua_chirps),\n",
    "    'INETER_Managua': to_dict_chisquare(result_chic_square_managua_ineter),\n",
    "    'TRMM_Managua': to_dict_chisquare(result_chic_square_managua_trmm)\n",
    "}"
   ]
  },
  {
   "cell_type": "code",
   "execution_count": 16,
   "metadata": {},
   "outputs": [],
   "source": [
    "df_result = pd.DataFrame(results_chisquare)\n",
    "df_result.to_excel(\"Chi-Square Precipitacion Anual Test.xlsx\")"
   ]
  }
 ],
 "metadata": {
  "kernelspec": {
   "display_name": "StatProjectUNIni-2CVdfANF",
   "language": "python",
   "name": "python3"
  },
  "language_info": {
   "codemirror_mode": {
    "name": "ipython",
    "version": 3
   },
   "file_extension": ".py",
   "mimetype": "text/x-python",
   "name": "python",
   "nbconvert_exporter": "python",
   "pygments_lexer": "ipython3",
   "version": "3.12.3"
  }
 },
 "nbformat": 4,
 "nbformat_minor": 2
}
