{
 "cells": [
  {
   "cell_type": "markdown",
   "metadata": {},
   "source": [
    "# Test Mann-Kendall en Precipitaciones Mensual "
   ]
  },
  {
   "cell_type": "code",
   "execution_count": 4,
   "metadata": {},
   "outputs": [],
   "source": [
    "import pandas as pd\n",
    "import pymannkendall as mk\n",
    "import numpy as np\n",
    "import os"
   ]
  },
  {
   "cell_type": "markdown",
   "metadata": {},
   "source": [
    "Convertir los .xlsx files a DataFrame\n",
    "1. Obteber el directory de trabajo actual -> base_dir\n",
    "2. Asignar cada archivo un DataFrame distinto"
   ]
  },
  {
   "cell_type": "code",
   "execution_count": 7,
   "metadata": {},
   "outputs": [],
   "source": [
    "base_dir = os.getcwd()\n",
    "\n",
    "df_juigalpa_chirps = pd.read_excel(f\"{base_dir}\\\\data\\\\precipitationMax\\\\PRECIPITACION - Juigalpa CHIRPS (2002-2019).xlsx\")\n",
    "df_juigalpa_ineter = pd.read_excel(f\"{base_dir}\\\\data\\\\precipitationMax\\\\PRECIPITACION - Juigalpa INETER (2002-2019).xlsx\") \n",
    "df_juigalpa_trmm = pd.read_excel(f\"{base_dir}\\\\data\\\\precipitationMax\\\\PRECIPITACION - Juigalpa TRMM (2002-2019).xlsx\") \n",
    "\n",
    "df_managua_chirps = pd.read_excel(f\"{base_dir}\\\\data\\\\precipitationMax\\\\PRECIPITACION - Managua CHIRPS (2002-2019).xlsx\")\n",
    "df_managua_ineter = pd.read_excel(f\"{base_dir}\\\\data\\\\precipitationMax\\\\PRECIPITACION - Managua INETER (2002-2019).xlsx\")\n",
    "df_managua_trmm = pd.read_excel(f\"{base_dir}\\\\data\\\\precipitationMax\\\\PRECIPITACION - Managua TRMM (2002-2019).xlsx\")"
   ]
  },
  {
   "cell_type": "markdown",
   "metadata": {},
   "source": [
    "Extraer la columna \"Valor\""
   ]
  },
  {
   "cell_type": "code",
   "execution_count": 8,
   "metadata": {},
   "outputs": [],
   "source": [
    "df_juigalpa_chirps_values = df_juigalpa_chirps[\"Valor\"]\n",
    "df_juigalpa_ineter_values = df_juigalpa_ineter[\"Valor\"]\n",
    "df_juigalpa_trmm_values = df_juigalpa_trmm[\"Valor\"]\n",
    "\n",
    "df_managua_chirps_values = df_managua_chirps[\"Valor\"]\n",
    "df_managua_ineter_values = df_managua_ineter[\"Valor\"]\n",
    "df_managua_trmm_values = df_managua_trmm[\"Valor\"]"
   ]
  },
  {
   "cell_type": "markdown",
   "metadata": {},
   "source": [
    "Realizar el test, el cual esta disponible en pymannkendall.original_test\n",
    "\n",
    "Retornado en el objeto:\n",
    "\n",
    "``` \n",
    "Mann_Kendall_Test(\n",
    "    trend='no trend', \n",
    "    h=np.False_, \n",
    "    p=np.float64(), \n",
    "    z=np.float64(), \n",
    "    Tau=np.float64(), \n",
    "    s=np.float64(), \n",
    "    var_s=np.float64(), \n",
    "    slope=np.float64(), \n",
    "    intercept=np.float64()\n",
    ")\n",
    "```"
   ]
  },
  {
   "cell_type": "code",
   "execution_count": 10,
   "metadata": {},
   "outputs": [],
   "source": [
    "result_mk_juigalpa_chirps = mk.original_test(df_juigalpa_chirps_values)\n",
    "result_mk_juigalpa_ineter = mk.original_test(df_juigalpa_ineter_values)\n",
    "result_mk_juigalpa_trmm = mk.original_test(df_juigalpa_trmm_values)\n",
    "\n",
    "result_mk_managua_chirps = mk.original_test(df_managua_chirps_values)\n",
    "result_mk_managua_ineter = mk.original_test(df_managua_ineter_values)\n",
    "result_mk_managua_trmm = mk.original_test(df_managua_trmm_values)"
   ]
  },
  {
   "cell_type": "markdown",
   "metadata": {},
   "source": [
    "Function para convertir el objeto  `Mann_Kendall_Test` a diccionario "
   ]
  },
  {
   "cell_type": "code",
   "execution_count": 14,
   "metadata": {},
   "outputs": [],
   "source": [
    "def to_dict_mk(result_mk):\n",
    "    return {\n",
    "        'trend': result_mk.trend,\n",
    "        'h': result_mk.h,\n",
    "        'p_value': float(result_mk.p),\n",
    "        'z_value': float(result_mk.z),\n",
    "        'Tau': float(result_mk.Tau),\n",
    "        's': float(result_mk.s),\n",
    "        'var_s': float(result_mk.var_s),\n",
    "        'slope': float(result_mk.slope),\n",
    "        'intercept': float(result_mk.intercept)\n",
    "    }\n"
   ]
  },
  {
   "cell_type": "code",
   "execution_count": 16,
   "metadata": {},
   "outputs": [],
   "source": [
    "results_mk = {\n",
    "    'Chirps_Juigalpa': to_dict_mk(result_mk_juigalpa_chirps),\n",
    "    'INETER_Juigalpa': to_dict_mk(result_mk_juigalpa_ineter),\n",
    "    'TRMM_Juigalpa': to_dict_mk(result_mk_juigalpa_trmm),\n",
    "    'Chirps_Managua': to_dict_mk(result_mk_managua_chirps),\n",
    "    'INETER_Managua': to_dict_mk(result_mk_managua_ineter),\n",
    "    'TRMM_Managua': to_dict_mk(result_mk_managua_trmm)\n",
    "}"
   ]
  },
  {
   "cell_type": "markdown",
   "metadata": {},
   "source": [
    "Convertir el diccionario a DataFtame para exportar a .xlsx"
   ]
  },
  {
   "cell_type": "code",
   "execution_count": 17,
   "metadata": {},
   "outputs": [],
   "source": [
    "df_result = pd.DataFrame(results_mk)\n",
    "df_result.to_excel(\"Python Mann-Kendall Precipitacion Monthly Test.xlsx\")"
   ]
  }
 ],
 "metadata": {
  "kernelspec": {
   "display_name": "StatProjectUNIni-2CVdfANF",
   "language": "python",
   "name": "python3"
  },
  "language_info": {
   "codemirror_mode": {
    "name": "ipython",
    "version": 3
   },
   "file_extension": ".py",
   "mimetype": "text/x-python",
   "name": "python",
   "nbconvert_exporter": "python",
   "pygments_lexer": "ipython3",
   "version": "3.12.3"
  }
 },
 "nbformat": 4,
 "nbformat_minor": 2
}
